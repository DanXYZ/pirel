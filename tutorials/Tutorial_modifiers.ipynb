{
 "cells": [
  {
   "cell_type": "markdown",
   "id": "6f47c6a0-b9f3-4bf5-b982-fea8de28b3db",
   "metadata": {},
   "source": [
    "In this tutorial I will show you how to add features to ```pirel.pcells``` classes.\n",
    "\n",
    "In fact, the functions in ```pirel.modifiers``` return new classes with extended functionality."
   ]
  },
  {
   "cell_type": "code",
   "execution_count": 1,
   "id": "57b203f7-c132-4a85-8af7-71d486f76809",
   "metadata": {},
   "outputs": [],
   "source": [
    "import pirel.pcells as pc\n",
    "import pirel.modifiers as pm"
   ]
  },
  {
   "cell_type": "markdown",
   "id": "f5abe49f-c621-4ec1-a35b-d70ea09179c9",
   "metadata": {},
   "source": [
    "For example, let's say that we need vias at the top and at the bottom of an ```pc.iDT``` device.\n",
    "\n",
    "Here is what to do:"
   ]
  },
  {
   "cell_type": "code",
   "execution_count": 2,
   "id": "509b1e0a-a124-4066-ad87-98028b1fbd3f",
   "metadata": {},
   "outputs": [],
   "source": [
    "simple_idt=pc.IDT()\n",
    "\n",
    "viaidt_class=pm.addVia(pc.IDT,'top')\n",
    "\n",
    "idt_wvia=viaidt_class(name='NewIdt instance')\n",
    "\n",
    "simple_idt.view()\n",
    "\n",
    "idt_wvia.view()"
   ]
  },
  {
   "cell_type": "markdown",
   "id": "376b0ef3-6313-4be4-b430-4aa198cebf4e",
   "metadata": {},
   "source": [
    "note that ```pm.addVia``` takes as class as input, and returns a class as output ( These functions are called *class factories* )\n",
    "\n",
    "```top``` specifies that the resulting class will have ```Via``` at the top ```phidl.Port```.\n",
    "\n",
    "we can also create another class with vias on top and bottom ports..."
   ]
  },
  {
   "cell_type": "code",
   "execution_count": 3,
   "id": "0c5a66b2-178c-49ee-9d3b-2dbd347379a4",
   "metadata": {},
   "outputs": [],
   "source": [
    "idt_wvia_tb_class=pm.addVia(pc.IDT,['top','bottom']) \n",
    "\n",
    "idt_wvia_tb=idt_wvia_tb_class(name='TopBottomVia Instance')\n",
    "\n",
    "idt_wvia_tb.view()"
   ]
  },
  {
   "cell_type": "markdown",
   "id": "9546ca04-47ac-4750-8de1-739e736563f4",
   "metadata": {},
   "source": [
    "Another example of useful ```modifiers``` is ```pm.array``` , which has a sort of obvious effect..."
   ]
  },
  {
   "cell_type": "code",
   "execution_count": 4,
   "id": "db8e9622-cee2-4929-a089-e42d1774924d",
   "metadata": {},
   "outputs": [],
   "source": [
    "idt_wvia_warray=pm.array(viaidt_class,3)\n",
    "\n",
    "idt_wvia_warray().view()"
   ]
  },
  {
   "cell_type": "markdown",
   "id": "17f5785d-1a23-4040-be55-5b8701564d58",
   "metadata": {},
   "source": [
    "Because of how these factories are designed, all the classes in ```pcells``` can be expanded with ```modifiers``` independently:"
   ]
  },
  {
   "cell_type": "code",
   "execution_count": 5,
   "id": "bebebd06-ac1d-4136-b5ad-c8aefd823e97",
   "metadata": {},
   "outputs": [],
   "source": [
    "idt_wvia_warray=pm.array(idt_wvia_tb_class,3)\n",
    "\n",
    "idt_wvia_warray().view()"
   ]
  },
  {
   "cell_type": "markdown",
   "id": "92b7a134-820d-424b-a06b-5da9a4cebb4e",
   "metadata": {},
   "source": [
    "by creating new classes, more complex classes are created: they inherit more parameters that are controllable in the same way of all the other ```pcells```."
   ]
  },
  {
   "cell_type": "code",
   "execution_count": 6,
   "id": "b676c8a5-a20d-4dca-9283-b0476c077f98",
   "metadata": {},
   "outputs": [
    {
     "data": {
      "text/plain": [
       "{'ViaLayer': 5,\n",
       " 'ViaShape': 'circle',\n",
       " 'ViaSize': 20,\n",
       " 'Name': 'Complex',\n",
       " 'Length': 200.0,\n",
       " 'Pitch': 20.0,\n",
       " 'YOffset': 10.0,\n",
       " 'Coverage': 0.7,\n",
       " 'N': 4,\n",
       " 'Layer': 2,\n",
       " 'ActiveAreaMargin': 0.5,\n",
       " 'PadLayers': [2, 1],\n",
       " 'OverVia': 2.0,\n",
       " 'ViaDistance': 40,\n",
       " 'ViaAreaX': 100.0,\n",
       " 'ViaAreaY': 100.0,\n",
       " 'NBlocks': 3,\n",
       " 'Type': '3 array of IDT w Via'}"
      ]
     },
     "execution_count": 6,
     "metadata": {},
     "output_type": "execute_result"
    }
   ],
   "source": [
    "complex_cell=idt_wvia_warray(name='Complex')\n",
    "\n",
    "pars=complex_cell.export_params()\n",
    "\n",
    "pars"
   ]
  },
  {
   "cell_type": "markdown",
   "id": "2e406a31-d94f-43dd-b228-7bfc9d5810b8",
   "metadata": {},
   "source": [
    "While the *parent* class ```pc.IDT``` does not have any via-related attributes, ```idt_wvia_warray``` has all the parameters needed to control vias.\n",
    "\n",
    "In fact,  ```idt_wvia_warray``` has all parameters of ```pc.IDT```, ```pc.Via``` and a parameter inherited by ```array``` (```NBlocks```)\n",
    "\n",
    "To get the components of ```idt_wvia_warray``` you can call ```get_components()```:"
   ]
  },
  {
   "cell_type": "code",
   "execution_count": 7,
   "id": "658ed769-397f-43ac-bef9-4cdba5fa4711",
   "metadata": {},
   "outputs": [
    {
     "data": {
      "text/plain": [
       "{'Via': pirel.pcells.Via}"
      ]
     },
     "execution_count": 7,
     "metadata": {},
     "output_type": "execute_result"
    }
   ],
   "source": [
    "idt_wvia_warray.get_components()"
   ]
  },
  {
   "cell_type": "code",
   "execution_count": 8,
   "id": "53ac6300-3552-4735-bcd9-740ae2d0e06b",
   "metadata": {},
   "outputs": [
    {
     "data": {
      "text/plain": [
       "{'Name': 'default', 'Layer': 5, 'Shape': 'circle', 'Size': 20, 'Type': 'Via'}"
      ]
     },
     "execution_count": 8,
     "metadata": {},
     "output_type": "execute_result"
    }
   ],
   "source": [
    "pc.Via().export_params()"
   ]
  },
  {
   "cell_type": "markdown",
   "id": "3e6bc41a-8b99-47b9-922b-39f8df98bc99",
   "metadata": {},
   "source": [
    "to get help on how ```Via``` works,you can always ***type ```help(pcells.Via)```!***"
   ]
  },
  {
   "cell_type": "code",
   "execution_count": 9,
   "id": "d8879ecc-d99f-46fa-8555-90ed1a47fa21",
   "metadata": {},
   "outputs": [],
   "source": [
    "\n",
    "pars['ViaShape']='square'\n",
    "\n",
    "pars['ViaAreaX']=300\n",
    "\n",
    "pars['ViaAreaY']=300\n",
    "\n",
    "pars['ViaSize']=50\n",
    "\n",
    "pars['OverVia']=2\n",
    "\n",
    "pars['ViaDistance']=100\n",
    "\n",
    "complex_cell.import_params(pars)\n",
    "\n",
    "complex_cell.view()"
   ]
  },
  {
   "cell_type": "markdown",
   "id": "90de3964-b97d-4f27-9b5d-46ea7a14e19f",
   "metadata": {},
   "source": [
    "We can do these *composition* operation on any ```pcells``` (for example, ```pc.FBERes```)"
   ]
  },
  {
   "cell_type": "code",
   "execution_count": 10,
   "id": "f26ae301-a388-417c-92f9-8197eee813c7",
   "metadata": {},
   "outputs": [],
   "source": [
    "fberes_array=pm.addVia(pm.array(pc.FBERes,4),'top')\n",
    "fberes_array().view()"
   ]
  },
  {
   "cell_type": "markdown",
   "id": "2e53bdac-5d70-4359-a223-81f11a780bf4",
   "metadata": {},
   "source": [
    "Look at this super-cool one, ```pm.addProbe```:"
   ]
  },
  {
   "cell_type": "code",
   "execution_count": 11,
   "id": "53c5f1bc-79de-40e3-acbf-31c2542c916a",
   "metadata": {},
   "outputs": [],
   "source": [
    "device_with_probe=pm.addProbe(fberes_array,pm.addLargeGnd(pc.GSGProbe))()\n",
    "\n",
    "import pirel.tools as pt\n",
    "\n",
    "pt.check(device_with_probe.draw(),joined=True)\n"
   ]
  },
  {
   "cell_type": "code",
   "execution_count": null,
   "id": "88e58c59-c375-4eff-a892-cfcd8bf9c622",
   "metadata": {},
   "outputs": [],
   "source": []
  }
 ],
 "metadata": {
  "kernelspec": {
   "display_name": "venv_layout",
   "language": "python",
   "name": "venv_layout"
  },
  "language_info": {
   "codemirror_mode": {
    "name": "ipython",
    "version": 3
   },
   "file_extension": ".py",
   "mimetype": "text/x-python",
   "name": "python",
   "nbconvert_exporter": "python",
   "pygments_lexer": "ipython3",
   "version": "3.9.2"
  }
 },
 "nbformat": 4,
 "nbformat_minor": 5
}
