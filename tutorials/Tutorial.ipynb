{
 "cells": [
  {
   "cell_type": "markdown",
   "id": "773bf588-a3c6-4c6c-a48d-88f541312f86",
   "metadata": {},
   "source": [
    "This is a tutorial for the [```pirel```](https://github.com/giumc/pirel) Python3 module.\n",
    "\n",
    "```pirel``` stands for PIezoelectric REsonator Layout, and it is based on the module [```phidl```](https://github.com/amccaugh/phidl)\n"
   ]
  },
  {
   "cell_type": "markdown",
   "id": "936a48bc-436f-4d24-b5ff-3c76d6673e45",
   "metadata": {},
   "source": [
    "There are ***four*** packages within ```pirel```: ```pcells``` , ```modifiers``` , ```sweeps``` and ```tools``` . Let's start with ```pcells```."
   ]
  },
  {
   "cell_type": "code",
   "execution_count": 1,
   "id": "3179ea70-409e-4086-8109-0cc924ceb7d4",
   "metadata": {},
   "outputs": [],
   "source": [
    "import pirel.pcells as pc"
   ]
  },
  {
   "cell_type": "markdown",
   "id": "6a847be4-55f9-4564-9903-7f4208e540e6",
   "metadata": {},
   "source": [
    "```pcells``` is a collection of classes that are commonly required in piezoelectric resonator design.\n",
    "all the cells defined here are derived from ```pirel.tools.LayoutPart``` and they share :\n",
    "\n",
    "* ```name``` attribute \n",
    "* ```import_params``` method\n",
    "* ```export_params``` method\n",
    "* ```view``` method\n",
    "* ```draw``` method\n",
    "* ```get_components``` method\n",
    "\n",
    "In general, these modules are growing pretty fast in size, so it wouldn't make sense to go through all the pcells/modifiers/sweeps/tools.\n",
    "\n",
    "Instead, try to ```help(pirel.pcells)```,```help(pirel.tools)``` when you are looking for information!\n",
    "\n",
    "An example of layout class is the InterDigiTated fingers ```pc.IDT```."
   ]
  },
  {
   "cell_type": "code",
   "execution_count": 2,
   "id": "34721618-80a9-4b97-8539-aec4dfd29ad7",
   "metadata": {},
   "outputs": [],
   "source": [
    "idt=pc.IDT(name='TutorialIDT')"
   ]
  },
  {
   "cell_type": "markdown",
   "id": "3f8568fa-bd8f-4fba-a4e1-872e74df121f",
   "metadata": {
    "tags": []
   },
   "source": [
    "You can get the parameters available to ```idt``` by just printing it!"
   ]
  },
  {
   "cell_type": "code",
   "execution_count": 3,
   "id": "f1d472dd-b2cb-4fec-8f0c-7507029404a4",
   "metadata": {},
   "outputs": [
    {
     "data": {
      "text/plain": [
       "Name                TutorialIDT\n",
       "Length                    200.0\n",
       "Pitch                      20.0\n",
       "YOffset                    10.0\n",
       "Coverage                    0.7\n",
       "N                             4\n",
       "ActiveAreaMargin            0.5\n",
       "Type                        IDT\n",
       "Resistance             2.380952"
      ]
     },
     "execution_count": 3,
     "metadata": {},
     "output_type": "execute_result"
    }
   ],
   "source": [
    "idt"
   ]
  },
  {
   "cell_type": "markdown",
   "id": "9d0b61dc-0331-4563-82af-ade367d14e9c",
   "metadata": {},
   "source": [
    "you can get these parameters in a ```dict``` by using ```export_params```.\n",
    "\n",
    "you can modify any of the parameters and then import them back in the object."
   ]
  },
  {
   "cell_type": "code",
   "execution_count": 4,
   "id": "fdbd3fbb-a1f6-4c92-92c9-2b661935bf89",
   "metadata": {
    "tags": []
   },
   "outputs": [
    {
     "data": {
      "text/plain": [
       "Name                TutorialIDT\n",
       "Length                    200.0\n",
       "Pitch                      20.0\n",
       "YOffset                    10.0\n",
       "Coverage                    0.7\n",
       "N                             4\n",
       "ActiveAreaMargin            0.5\n",
       "Type                        IDT\n",
       "Resistance             2.380952"
      ]
     },
     "execution_count": 4,
     "metadata": {},
     "output_type": "execute_result"
    }
   ],
   "source": [
    "idt_params=idt.export_params()\n",
    "\n",
    "idt_params[\"N\"]=4\n",
    "\n",
    "idt.import_params(idt_params)\n",
    "\n",
    "idt"
   ]
  },
  {
   "cell_type": "markdown",
   "id": "b70dc45e-db00-4457-9d36-dfb6503e6d4d",
   "metadata": {},
   "source": [
    "At any point, you can visualize the layout cell by calling ```view()```"
   ]
  },
  {
   "cell_type": "code",
   "execution_count": 5,
   "id": "e5de2091-50f5-4d43-a576-80b45241c9a0",
   "metadata": {
    "tags": []
   },
   "outputs": [
    {
     "data": {
      "image/png": "[encoded data removed]",
      "text/plain": [
       "<Figure size 432x288 with 1 Axes>"
      ]
     },
     "metadata": {
      "needs_background": "light"
     },
     "output_type": "display_data"
    }
   ],
   "source": [
    "import matplotlib.pyplot as plt\n",
    "idt.view(blocking=True)"
   ]
  },
  {
   "cell_type": "markdown",
   "id": "c76af514-de3d-4897-bb16-bb8fe3d47ec5",
   "metadata": {},
   "source": [
    "the output is showing a ```phidl.Device``` . These ```Device``` instances are powered up versions of ```gdspy.Cell``` instances.\n",
    "\n",
    "Refer to [```phidl```](https://github.com/amccaugh/phidl) if you want to learn how many cool things you can do with them.\n",
    "\n",
    "you can explicitly get this ```Device``` instance by calling the ```draw()``` method.\n",
    "\n",
    "At that point, you can play around with the cells by using the powerful tools in ```phidl```.\n",
    "\n",
    "In this example, we will align and distribute two ```idt``` Device using the ```phidl``` module."
   ]
  },
  {
   "cell_type": "code",
   "execution_count": 6,
   "id": "e3db1e98-53ff-4e93-90ce-3ff877d15c69",
   "metadata": {},
   "outputs": [
    {
     "data": {
      "image/png": "[encoded data removed]",
      "text/plain": [
       "<Figure size 432x288 with 1 Axes>"
      ]
     },
     "metadata": {
      "needs_background": "light"
     },
     "output_type": "display_data"
    }
   ],
   "source": [
    "idt.coverage=0.3\n",
    "cell1=idt.draw()\n",
    "idt.coverage=0.8 ### yes you can set attributes like this, but you will have to find variable names from typing help(idt)\n",
    "cell2=idt.draw()\n",
    "\n",
    "import phidl\n",
    "import phidl.device_layout as dl\n",
    "from phidl import quickplot as qp\n",
    "\n",
    "g=dl.Group([cell1,cell2])\n",
    "g.distribute(direction='x',spacing=30)\n",
    "g.align(alignment='y')\n",
    "\n",
    "cell_tot=phidl.Device()\n",
    "cell_tot<<cell1\n",
    "cell_tot<<cell2\n",
    "\n",
    "qp(cell_tot)"
   ]
  },
  {
   "cell_type": "markdown",
   "id": "d192e7f6-4681-4ae2-95b1-684758efd069",
   "metadata": {},
   "source": [
    "Feel free to look at ```help(pc)``` to figure out all the classes implemented in this module.\n",
    "\n",
    "Some classes in ``pc`` are created by subclassing , some other by composition of *unit* classes. \n",
    "For example, a Lateral Field Excitation RESonator (```pc.LFERes```) is built starting from some components:\n",
    "\n",
    "* ```pc.IDT```\n",
    "* ```pc.Bus```\n",
    "* ```pc.EtchPit```\n",
    "* ```pc.Anchor```\n",
    "\n",
    "For any class in ```pc```, you can find components by querying the ```get_components()``` method:"
   ]
  },
  {
   "cell_type": "code",
   "execution_count": 7,
   "id": "b47ff283-9ced-4350-84b5-128b8fb733e7",
   "metadata": {},
   "outputs": [],
   "source": [
    "via=pc.Via(name='TutorialVia')\n",
    "res=pc.LFERes(name='TutorialLFERes')"
   ]
  },
  {
   "cell_type": "code",
   "execution_count": 8,
   "id": "536332f4-219c-463d-b5d2-b3a2468e47f1",
   "metadata": {},
   "outputs": [
    {
     "data": {
      "text/plain": [
       "{}"
      ]
     },
     "execution_count": 8,
     "metadata": {},
     "output_type": "execute_result"
    }
   ],
   "source": [
    "via.get_components()"
   ]
  },
  {
   "cell_type": "code",
   "execution_count": 9,
   "id": "e2ca9dba-c6a6-470b-974c-b3637f6dcfa2",
   "metadata": {},
   "outputs": [
    {
     "data": {
      "text/plain": [
       "{'IDT': pirel.pcells.IDT,\n",
       " 'Bus': pirel.pcells.Bus,\n",
       " 'EtchPit': pirel.pcells.EtchPit,\n",
       " 'Anchor': pirel.pcells.Anchor}"
      ]
     },
     "execution_count": 9,
     "metadata": {},
     "output_type": "execute_result"
    }
   ],
   "source": [
    "res.get_components()"
   ]
  },
  {
   "cell_type": "markdown",
   "id": "e5bad894-a04d-49b1-b9dc-cbba6db21c88",
   "metadata": {},
   "source": [
    "Note that ```via``` has no components, ```res``` has four.\n",
    "\n",
    "All layout parameters of each component is also a layout parameter of the composed class.\n",
    "\n",
    "For example, this is the list of parameters that define ```LFERes```:"
   ]
  },
  {
   "cell_type": "code",
   "execution_count": 10,
   "id": "fb8d7e72-2756-430a-8f50-07a0521dbdc1",
   "metadata": {},
   "outputs": [
    {
     "data": {
      "image/png": "[encoded data removed]",
      "text/plain": [
       "<Figure size 432x288 with 1 Axes>"
      ]
     },
     "metadata": {
      "needs_background": "light"
     },
     "output_type": "display_data"
    },
    {
     "data": {
      "text/plain": [
       "{'IDTLength': 200.0,\n",
       " 'IDTPitch': 20.0,\n",
       " 'IDTYOffset': 10.0,\n",
       " 'IDTCoverage': 0.7,\n",
       " 'IDTN': 4,\n",
       " 'IDTLayer': 2,\n",
       " 'IDTActiveAreaMargin': 0.5,\n",
       " 'BusLayer': 2,\n",
       " 'BusSizeY': 40.0,\n",
       " 'EtchPitX': 40.0,\n",
       " 'EtchPitLayer': 4,\n",
       " 'AnchorSizeX': 20.0,\n",
       " 'AnchorSizeY': 80.0,\n",
       " 'AnchorMetalizedX': 16.0,\n",
       " 'AnchorMetalizedY': 84.0,\n",
       " 'AnchorLayer': 2,\n",
       " 'AnchorEtchLayer': 4,\n",
       " 'Name': 'TutorialLFERes',\n",
       " 'Type': 'LFERes'}"
      ]
     },
     "execution_count": 10,
     "metadata": {},
     "output_type": "execute_result"
    }
   ],
   "source": [
    "lfe_params=res.export_params()\n",
    "res.view()\n",
    "lfe_params"
   ]
  },
  {
   "cell_type": "markdown",
   "id": "857688cb-ea39-4a79-8613-2e5fe0335394",
   "metadata": {},
   "source": [
    "Some classes have also parameters of their own : \n",
    "the class ```FBERes``` (Floating Bottom Electrode Resonators) has a parameter that sets the margin of the floating bottom electrode:"
   ]
  },
  {
   "cell_type": "code",
   "execution_count": 11,
   "id": "b5ade928-38fa-4830-a5d0-7299bba19b9c",
   "metadata": {},
   "outputs": [
    {
     "data": {
      "image/png": "[encoded data removed]",
      "text/plain": [
       "<Figure size 432x288 with 1 Axes>"
      ]
     },
     "metadata": {
      "needs_background": "light"
     },
     "output_type": "display_data"
    }
   ],
   "source": [
    "fbe=pc.FBERes(name=\"TutorialFBE\")\n",
    "params=fbe.export_params();\n",
    "\n",
    "\n",
    "params[\"PlatePosition\"]='in, long'\n",
    "\n",
    "fbe.import_params(params)\n",
    "fbe.view()"
   ]
  },
  {
   "cell_type": "markdown",
   "id": "1faef048-b339-4501-b00d-65822fc37df8",
   "metadata": {},
   "source": [
    "If you are bothered by the ```phidl.Port``` labels, just pass the optional ```joined=True``` to the ```check``` method in ```pirel.tools```"
   ]
  },
  {
   "cell_type": "code",
   "execution_count": 12,
   "id": "c2a759e4-b4e5-4634-9655-ce507065f26b",
   "metadata": {},
   "outputs": [
    {
     "data": {
      "image/png": "[encoded data removed]",
      "text/plain": [
       "<Figure size 432x288 with 1 Axes>"
      ]
     },
     "metadata": {
      "needs_background": "light"
     },
     "output_type": "display_data"
    }
   ],
   "source": [
    "import pirel.tools as pt\n",
    "\n",
    "fbe_cell=fbe.draw()\n",
    "\n",
    "pt.check(fbe_cell,joined=True)"
   ]
  },
  {
   "cell_type": "markdown",
   "id": "b06c2d60-2983-41ee-994f-9c2d52269651",
   "metadata": {},
   "source": [
    "Check out the next tutorial on how to power up the ```LayoutPart``` classes using [```pirel.modifiers```](./Tutorial_modifiers.ipynb)"
   ]
  }
 ],
 "metadata": {
  "kernelspec": {
   "display_name": "venv_layout",
   "language": "python",
   "name": "venv_layout"
  },
  "language_info": {
   "codemirror_mode": {
    "name": "ipython",
    "version": 3
   },
   "file_extension": ".py",
   "mimetype": "text/x-python",
   "name": "python",
   "nbconvert_exporter": "python",
   "pygments_lexer": "ipython3",
   "version": "3.9.2"
  },
  "toc-autonumbering": true,
  "toc-showcode": false,
  "toc-showtags": true
 },
 "nbformat": 4,
 "nbformat_minor": 5
}
