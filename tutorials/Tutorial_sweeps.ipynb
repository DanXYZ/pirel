{
 "cells": [
  {
   "cell_type": "raw",
   "id": "3e484652-c91e-4fb1-b5af-b06ac8c7991a",
   "metadata": {},
   "source": [
    "Another package of ```pirel``` is ```pirel.sweeps```, which is used to create arrays and matrices of ```LayoutPart``` instances.\n",
    "\n",
    "Let's first create a suitable ```LayoutPart``` objec"
   ]
  },
  {
   "cell_type": "code",
   "execution_count": 9,
   "id": "61c390b3-7f01-4423-90bf-722c7dd82e45",
   "metadata": {},
   "outputs": [],
   "source": [
    "import pirel.pcells as pc\n",
    "import pirel.modifiers as pm\n",
    "import pirel.tools as pt\n",
    "\n",
    "dut=pm.addPad(pm.array(pm.addPartialEtch(pc.LFERes)))(name='SweptDevice')\n",
    "\n",
    "pt.check(dut.draw(),joined=True)"
   ]
  },
  {
   "cell_type": "markdown",
   "id": "1031748d-001d-46e2-9548-651ca250626a",
   "metadata": {},
   "source": [
    "To create a parametric array of ```dut``` ,let's define a ```SweepParam``` from the package ```pirel.sweeps```"
   ]
  },
  {
   "cell_type": "code",
   "execution_count": 10,
   "id": "883c027a-1784-4920-bdc9-ffae0d48f960",
   "metadata": {},
   "outputs": [],
   "source": [
    "import pirel.sweeps as ps\n",
    "\n",
    "x_param=ps.SweepParam({'IDTCoverage':[0.3,0.5,0.7],'IDTPitch':[5,10,15]})"
   ]
  },
  {
   "cell_type": "markdown",
   "id": "d0e81fb2-8ec4-49a3-8ce2-cf97a52d5cb7",
   "metadata": {},
   "source": [
    "In ```x_param```, we are sweeping two parameters in *parallel* : ```x_param``` is a sweep of length 3 , but each element has two parameters changing...\n",
    "\n",
    "In other words...\n"
   ]
  },
  {
   "cell_type": "code",
   "execution_count": 11,
   "id": "cb0f1378-c8ad-4c32-8db2-786ecfe926cf",
   "metadata": {},
   "outputs": [
    {
     "data": {
      "text/plain": [
       "3"
      ]
     },
     "execution_count": 11,
     "metadata": {},
     "output_type": "execute_result"
    }
   ],
   "source": [
    "len(x_param)"
   ]
  },
  {
   "cell_type": "code",
   "execution_count": 12,
   "id": "56c135f0-9671-448a-ae7c-19619152a321",
   "metadata": {},
   "outputs": [
    {
     "name": "stdout",
     "output_type": "stream",
     "text": [
      "{'IDTCoverage': 0.3, 'IDTPitch': 5}\n",
      "{'IDTCoverage': 0.5, 'IDTPitch': 10}\n",
      "{'IDTCoverage': 0.7, 'IDTPitch': 15}\n"
     ]
    }
   ],
   "source": [
    "print(x_param(0))\n",
    "print(x_param(1))\n",
    "print(x_param(2))"
   ]
  },
  {
   "cell_type": "markdown",
   "id": "13287677-4f50-4f2c-98e3-f3b26aeadf8c",
   "metadata": {},
   "source": [
    "To build an array, we initialize a ```PArray```, which is a ```LayoutPart``` in turn and so has access to all functionalities described for ```pcells``` and ```modifiers```."
   ]
  },
  {
   "cell_type": "code",
   "execution_count": 14,
   "id": "9c5e967f-0b82-4acd-95ab-c227212fb56e",
   "metadata": {},
   "outputs": [],
   "source": [
    "dut_array=ps.PArray(dut,x_param)\n",
    "pt.check(dut_array.draw(),joined=True)"
   ]
  },
  {
   "cell_type": "markdown",
   "id": "dc07250d-a9ba-4e3f-9d23-275d0d54c823",
   "metadata": {},
   "source": [
    "By default, this cell prints some labels on top and bottom of each sweep point.\n",
    "You can remove this behavior by setting "
   ]
  },
  {
   "cell_type": "code",
   "execution_count": 15,
   "id": "3de8a5a4-7a9a-4243-a7cd-416ef9081b04",
   "metadata": {},
   "outputs": [],
   "source": [
    "dut_array.labels_top=None\n",
    "dut_array.labels_bottom=None\n",
    "pt.check(dut_array.draw(),joined=True)"
   ]
  },
  {
   "cell_type": "markdown",
   "id": "a8858a68-8cb9-4ce4-93a3-f8be0873daa3",
   "metadata": {},
   "source": [
    "The next natural extension is to create ```PMatrix```.\n",
    "\n",
    "We will need another parameter to sweep over the Y axis (```y_param```).\n",
    "\n",
    "You will also see how to use the ```combine``` method to create more complicated sweeps."
   ]
  },
  {
   "cell_type": "code",
   "execution_count": 16,
   "id": "892a0f0c-e0e0-4be2-90cf-0f9bb7e4b78e",
   "metadata": {},
   "outputs": [
    {
     "name": "stdout",
     "output_type": "stream",
     "text": [
      "\u001b[Kdrawing array 4 of 4"
     ]
    }
   ],
   "source": [
    "y_param1=ps.SweepParam({'NBlocks':[3,4]})\n",
    "y_param2=ps.SweepParam({'AnchorSizeX':[20,40]})\n",
    "y_param=y_param1.combine(y_param2)\n",
    "\n",
    "dut_matrix=ps.PMatrix(dut,x_param,y_param)\n",
    "\n",
    "dut_matrix.view()"
   ]
  },
  {
   "cell_type": "code",
   "execution_count": null,
   "id": "cbb1119a-33bb-4b97-a510-05cf140ff8da",
   "metadata": {},
   "outputs": [],
   "source": []
  }
 ],
 "metadata": {
  "kernelspec": {
   "display_name": "venv_layout",
   "language": "python",
   "name": "venv_layout"
  },
  "language_info": {
   "codemirror_mode": {
    "name": "ipython",
    "version": 3
   },
   "file_extension": ".py",
   "mimetype": "text/x-python",
   "name": "python",
   "nbconvert_exporter": "python",
   "pygments_lexer": "ipython3",
   "version": "3.9.2"
  }
 },
 "nbformat": 4,
 "nbformat_minor": 5
}
